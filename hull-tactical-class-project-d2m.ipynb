{
 "cells": [
  {
   "cell_type": "markdown",
   "id": "9ce88a07",
   "metadata": {
    "papermill": {
     "duration": 0.00487,
     "end_time": "2025-10-09T16:53:05.124130",
     "exception": false,
     "start_time": "2025-10-09T16:53:05.119260",
     "status": "completed"
    },
    "tags": []
   },
   "source": [
    "## Imports"
   ]
  },
  {
   "cell_type": "code",
   "execution_count": null,
   "id": "d0a35a7b",
   "metadata": {
    "execution": {
     "iopub.execute_input": "2025-10-09T16:53:05.134229Z",
     "iopub.status.busy": "2025-10-09T16:53:05.133871Z",
     "iopub.status.idle": "2025-10-09T16:53:10.173088Z",
     "shell.execute_reply": "2025-10-09T16:53:10.172078Z"
    },
    "papermill": {
     "duration": 5.046402,
     "end_time": "2025-10-09T16:53:10.175033",
     "exception": false,
     "start_time": "2025-10-09T16:53:05.128631",
     "status": "completed"
    },
    "tags": []
   },
   "outputs": [],
   "source": [
    "import os\n",
    "from pathlib import Path\n",
    "import datetime\n",
    "\n",
    "from tqdm import tqdm\n",
    "from dataclasses import dataclass, asdict\n",
    "\n",
    "import polars as pl \n",
    "import numpy as np\n",
    "from sklearn.linear_model import ElasticNet, ElasticNetCV, LinearRegression\n",
    "from sklearn.preprocessing import StandardScaler\n",
    "\n",
    "# import kaggle_evaluation.default_inference_server\n",
    "import kaggle_evaluation.core.default_inference_server"
   ]
  },
  {
   "cell_type": "markdown",
   "id": "671fb581",
   "metadata": {
    "papermill": {
     "duration": 0.004262,
     "end_time": "2025-10-09T16:53:10.184258",
     "exception": false,
     "start_time": "2025-10-09T16:53:10.179996",
     "status": "completed"
    },
    "tags": []
   },
   "source": [
    "## Project Directory Structure"
   ]
  },
  {
   "cell_type": "markdown",
   "id": "8637850a",
   "metadata": {
    "papermill": {
     "duration": 0.003902,
     "end_time": "2025-10-09T16:53:10.215534",
     "exception": false,
     "start_time": "2025-10-09T16:53:10.211632",
     "status": "completed"
    },
    "tags": []
   },
   "source": [
    "## Configurations"
   ]
  },
  {
   "cell_type": "code",
   "execution_count": null,
   "id": "d64b7b0a",
   "metadata": {
    "execution": {
     "iopub.execute_input": "2025-10-09T16:53:10.225982Z",
     "iopub.status.busy": "2025-10-09T16:53:10.225073Z",
     "iopub.status.idle": "2025-10-09T16:53:10.231665Z",
     "shell.execute_reply": "2025-10-09T16:53:10.230755Z"
    },
    "papermill": {
     "duration": 0.01322,
     "end_time": "2025-10-09T16:53:10.233083",
     "exception": false,
     "start_time": "2025-10-09T16:53:10.219863",
     "status": "completed"
    },
    "tags": []
   },
   "outputs": [],
   "source": [
    "# ============ PATHS ============\n",
    "# DATA_PATH: Path = Path('/kaggle/input/hull-tactical-market-prediction/')\n",
    "DATA_PATH: Path = Path('/kaggle_evaluation/')\n",
    "\n",
    "# ============ RETURNS TO SIGNAL CONFIGS ============\n",
    "MIN_SIGNAL: float = 0.0                         # Minimum value for the daily signal \n",
    "MAX_SIGNAL: float = 2.0                         # Maximum value for the daily signal \n",
    "SIGNAL_MULTIPLIER: float = 400.0                # Multiplier of the OLS market forward excess returns predictions to signal \n",
    "\n",
    "# ============ MODEL CONFIGS ============\n",
    "CV: int = 10                                    # Number of cross validation folds in the model fitting\n",
    "L1_RATIO: float = 0.5                           # ElasticNet mixing parameter\n",
    "ALPHAS: np.ndarray = np.logspace(-4, 2, 100)    # Constant that multiplies the penalty terms\n",
    "MAX_ITER: int = 1000000                         # The maximum number of iterations"
   ]
  },
  {
   "cell_type": "markdown",
   "id": "0a21e89f",
   "metadata": {
    "papermill": {
     "duration": 0.004126,
     "end_time": "2025-10-09T16:53:10.241744",
     "exception": false,
     "start_time": "2025-10-09T16:53:10.237618",
     "status": "completed"
    },
    "tags": []
   },
   "source": [
    "## Dataclasses Helpers"
   ]
  },
  {
   "cell_type": "code",
   "execution_count": null,
   "id": "bad9a02e",
   "metadata": {
    "execution": {
     "iopub.execute_input": "2025-10-09T16:53:10.251646Z",
     "iopub.status.busy": "2025-10-09T16:53:10.251184Z",
     "iopub.status.idle": "2025-10-09T16:53:10.260377Z",
     "shell.execute_reply": "2025-10-09T16:53:10.259266Z"
    },
    "papermill": {
     "duration": 0.015914,
     "end_time": "2025-10-09T16:53:10.261813",
     "exception": false,
     "start_time": "2025-10-09T16:53:10.245899",
     "status": "completed"
    },
    "tags": []
   },
   "outputs": [],
   "source": [
    "@dataclass\n",
    "class DatasetOutput:\n",
    "    X_train : pl.DataFrame \n",
    "    X_test: pl.DataFrame\n",
    "    y_train: pl.Series\n",
    "    y_test: pl.Series\n",
    "    scaler: StandardScaler\n",
    "\n",
    "@dataclass \n",
    "class ElasticNetParameters:\n",
    "    l1_ratio : float \n",
    "    cv: int\n",
    "    alphas: np.ndarray \n",
    "    max_iter: int \n",
    "    \n",
    "    def __post_init__(self): \n",
    "        if self.l1_ratio < 0 or self.l1_ratio > 1: \n",
    "            raise ValueError(\"Wrong initializing value for ElasticNet l1_ratio\")\n",
    "        \n",
    "@dataclass(frozen=True)\n",
    "class RetToSignalParameters:\n",
    "    signal_multiplier: float \n",
    "    min_signal : float = MIN_SIGNAL\n",
    "    max_signal : float = MAX_SIGNAL"
   ]
  },
  {
   "cell_type": "markdown",
   "id": "39e2436a",
   "metadata": {
    "papermill": {
     "duration": 0.00378,
     "end_time": "2025-10-09T16:53:10.270734",
     "exception": false,
     "start_time": "2025-10-09T16:53:10.266954",
     "status": "completed"
    },
    "tags": []
   },
   "source": [
    "## Set the Parameters"
   ]
  },
  {
   "cell_type": "code",
   "execution_count": null,
   "id": "59c223f9",
   "metadata": {
    "execution": {
     "iopub.execute_input": "2025-10-09T16:53:10.280259Z",
     "iopub.status.busy": "2025-10-09T16:53:10.279895Z",
     "iopub.status.idle": "2025-10-09T16:53:10.285187Z",
     "shell.execute_reply": "2025-10-09T16:53:10.284228Z"
    },
    "papermill": {
     "duration": 0.012151,
     "end_time": "2025-10-09T16:53:10.286843",
     "exception": false,
     "start_time": "2025-10-09T16:53:10.274692",
     "status": "completed"
    },
    "tags": []
   },
   "outputs": [],
   "source": [
    "ret_signal_params = RetToSignalParameters(\n",
    "    signal_multiplier= SIGNAL_MULTIPLIER\n",
    ")\n",
    "\n",
    "enet_params = ElasticNetParameters(\n",
    "    l1_ratio = L1_RATIO, \n",
    "    cv = CV, \n",
    "    alphas = ALPHAS, \n",
    "    max_iter = MAX_ITER\n",
    ")"
   ]
  },
  {
   "cell_type": "markdown",
   "id": "c7f38047",
   "metadata": {
    "papermill": {
     "duration": 0.003946,
     "end_time": "2025-10-09T16:53:10.295213",
     "exception": false,
     "start_time": "2025-10-09T16:53:10.291267",
     "status": "completed"
    },
    "tags": []
   },
   "source": [
    "## Dataset Loading/Creating Helper Functions"
   ]
  },
  {
   "cell_type": "code",
   "execution_count": null,
   "id": "4374a310",
   "metadata": {
    "execution": {
     "iopub.execute_input": "2025-10-09T16:53:10.305040Z",
     "iopub.status.busy": "2025-10-09T16:53:10.304735Z",
     "iopub.status.idle": "2025-10-09T16:53:10.317174Z",
     "shell.execute_reply": "2025-10-09T16:53:10.316067Z"
    },
    "papermill": {
     "duration": 0.019652,
     "end_time": "2025-10-09T16:53:10.318919",
     "exception": false,
     "start_time": "2025-10-09T16:53:10.299267",
     "status": "completed"
    },
    "tags": []
   },
   "outputs": [],
   "source": [
    "def load_trainset() -> pl.DataFrame:\n",
    "    \"\"\"\n",
    "    Loads and preprocesses the training dataset.\n",
    "\n",
    "    Returns:\n",
    "        pl.DataFrame: The preprocessed training DataFrame.\n",
    "    \"\"\"\n",
    "    return (\n",
    "        pl.read_csv(DATA_PATH / \"train.csv\")\n",
    "        .rename({'market_forward_excess_returns':'target'})\n",
    "        .with_columns(\n",
    "            pl.exclude('date_id').cast(pl.Float64, strict=False)\n",
    "        )\n",
    "        .head(-10)\n",
    "    )\n",
    "\n",
    "def load_testset() -> pl.DataFrame:\n",
    "    \"\"\"\n",
    "    Loads and preprocesses the testing dataset.\n",
    "\n",
    "    Returns:\n",
    "        pl.DataFrame: The preprocessed testing DataFrame.\n",
    "    \"\"\"\n",
    "    return (\n",
    "        pl.read_csv(DATA_PATH / \"test.csv\")\n",
    "        .rename({'lagged_forward_returns':'target'})\n",
    "        .with_columns(\n",
    "            pl.exclude('date_id').cast(pl.Float64, strict=False)\n",
    "        )\n",
    "    )\n",
    "\n",
    "def create_example_dataset(df: pl.DataFrame) -> pl.DataFrame:\n",
    "    \"\"\"\n",
    "    Creates new features and cleans a DataFrame.\n",
    "\n",
    "    Args:\n",
    "        df (pl.DataFrame): The input Polars DataFrame.\n",
    "\n",
    "    Returns:\n",
    "        pl.DataFrame: The DataFrame with new features, selected columns, and no null values.\n",
    "    \"\"\"\n",
    "    vars_to_keep: list[str] = [\n",
    "        \"S2\", \"E2\", \"E3\", \"P9\", \"S1\", \"S5\", \"I2\", \"P8\",\n",
    "        \"P10\", \"P12\", \"P13\", \"U1\", \"U2\"\n",
    "    ]\n",
    "\n",
    "    return (\n",
    "        df.with_columns(\n",
    "            (pl.col(\"I2\") - pl.col(\"I1\")).alias(\"U1\"),\n",
    "            (pl.col(\"M11\") / ((pl.col(\"I2\") + pl.col(\"I9\") + pl.col(\"I7\")) / 3)).alias(\"U2\")\n",
    "        )\n",
    "        .select([\"date_id\", \"target\"] + vars_to_keep)\n",
    "        .with_columns([\n",
    "            pl.col(col).fill_null(pl.col(col).ewm_mean(com=0.5))\n",
    "            for col in vars_to_keep\n",
    "        ])\n",
    "        .drop_nulls()\n",
    "    )\n",
    "    \n",
    "def join_train_test_dataframes(train: pl.DataFrame, test: pl.DataFrame) -> pl.DataFrame:\n",
    "    \"\"\"\n",
    "    Joins two dataframes by common columns and concatenates them vertically.\n",
    "\n",
    "    Args:\n",
    "        train (pl.DataFrame): The training DataFrame.\n",
    "        test (pl.DataFrame): The testing DataFrame.\n",
    "\n",
    "    Returns:\n",
    "        pl.DataFrame: A single DataFrame with vertically stacked data from common columns.\n",
    "    \"\"\"\n",
    "    common_columns: list[str] = [col for col in train.columns if col in test.columns]\n",
    "    \n",
    "    return pl.concat([train.select(common_columns), test.select(common_columns)], how=\"vertical\")\n",
    "\n",
    "def split_dataset(train: pl.DataFrame, test: pl.DataFrame, features: list[str]) -> DatasetOutput: \n",
    "    \"\"\"\n",
    "    Splits the data into features (X) and target (y), and scales the features.\n",
    "\n",
    "    Args:\n",
    "        train (pl.DataFrame): The processed training DataFrame.\n",
    "        test (pl.DataFrame): The processed testing DataFrame.\n",
    "        features (list[str]): List of features to used in model. \n",
    "\n",
    "    Returns:\n",
    "        DatasetOutput: A dataclass containing the scaled feature sets, target series, and the fitted scaler.\n",
    "    \"\"\"\n",
    "    X_train = train.drop(['date_id','target']) \n",
    "    y_train = train.get_column('target')\n",
    "    X_test = test.drop(['date_id','target']) \n",
    "    y_test = test.get_column('target')\n",
    "    \n",
    "    scaler = StandardScaler() \n",
    "    \n",
    "    X_train_scaled_np = scaler.fit_transform(X_train)\n",
    "    X_train = pl.from_numpy(X_train_scaled_np, schema=features)\n",
    "    \n",
    "    X_test_scaled_np = scaler.transform(X_test)\n",
    "    X_test = pl.from_numpy(X_test_scaled_np, schema=features)\n",
    "    \n",
    "    \n",
    "    return DatasetOutput(\n",
    "        X_train = X_train,\n",
    "        y_train = y_train, \n",
    "        X_test = X_test, \n",
    "        y_test = y_test,\n",
    "        scaler = scaler\n",
    "    )"
   ]
  },
  {
   "cell_type": "markdown",
   "id": "bad4d188",
   "metadata": {
    "papermill": {
     "duration": 0.003948,
     "end_time": "2025-10-09T16:53:10.327218",
     "exception": false,
     "start_time": "2025-10-09T16:53:10.323270",
     "status": "completed"
    },
    "tags": []
   },
   "source": [
    "## Converting Return Prediction to Signal\n",
    "\n",
    "Here is an example of a potential function used to convert a prediction based on the market forward excess return to a daily signal position. "
   ]
  },
  {
   "cell_type": "code",
   "execution_count": null,
   "id": "8cbdb3ac",
   "metadata": {
    "execution": {
     "iopub.execute_input": "2025-10-09T16:53:10.336867Z",
     "iopub.status.busy": "2025-10-09T16:53:10.336542Z",
     "iopub.status.idle": "2025-10-09T16:53:10.341981Z",
     "shell.execute_reply": "2025-10-09T16:53:10.341090Z"
    },
    "papermill": {
     "duration": 0.012141,
     "end_time": "2025-10-09T16:53:10.343519",
     "exception": false,
     "start_time": "2025-10-09T16:53:10.331378",
     "status": "completed"
    },
    "tags": []
   },
   "outputs": [],
   "source": [
    "def convert_ret_to_signal(\n",
    "    ret_arr: np.ndarray,\n",
    "    params: RetToSignalParameters\n",
    ") -> np.ndarray:\n",
    "    \"\"\"\n",
    "    Converts raw model predictions (expected returns) into a trading signal.\n",
    "\n",
    "    Args:\n",
    "        ret_arr (np.ndarray): The array of predicted returns.\n",
    "        params (RetToSignalParameters): Parameters for scaling and clipping the signal.\n",
    "\n",
    "    Returns:\n",
    "        np.ndarray: The resulting trading signal, clipped between min and max values.\n",
    "    \"\"\"\n",
    "    return np.clip(\n",
    "        ret_arr * params.signal_multiplier + 1, params.min_signal, params.max_signal\n",
    "    )"
   ]
  },
  {
   "cell_type": "markdown",
   "id": "f1db2f2e",
   "metadata": {
    "papermill": {
     "duration": 0.003868,
     "end_time": "2025-10-09T16:53:10.351799",
     "exception": false,
     "start_time": "2025-10-09T16:53:10.347931",
     "status": "completed"
    },
    "tags": []
   },
   "source": [
    "## Looking at the Data"
   ]
  },
  {
   "cell_type": "code",
   "execution_count": null,
   "id": "c1563ce0",
   "metadata": {
    "execution": {
     "iopub.execute_input": "2025-10-09T16:53:10.361296Z",
     "iopub.status.busy": "2025-10-09T16:53:10.360911Z",
     "iopub.status.idle": "2025-10-09T16:53:10.757084Z",
     "shell.execute_reply": "2025-10-09T16:53:10.756045Z"
    },
    "papermill": {
     "duration": 0.403306,
     "end_time": "2025-10-09T16:53:10.759126",
     "exception": false,
     "start_time": "2025-10-09T16:53:10.355820",
     "status": "completed"
    },
    "tags": []
   },
   "outputs": [
    {
     "name": "stdout",
     "output_type": "stream",
     "text": [
      "shape: (3, 98)\n",
      "┌─────────┬─────┬─────┬─────┬───┬───────────┬─────────────────┬────────────────┬──────────┐\n",
      "│ date_id ┆ D1  ┆ D2  ┆ D3  ┆ … ┆ V9        ┆ forward_returns ┆ risk_free_rate ┆ target   │\n",
      "│ ---     ┆ --- ┆ --- ┆ --- ┆   ┆ ---       ┆ ---             ┆ ---            ┆ ---      │\n",
      "│ i64     ┆ f64 ┆ f64 ┆ f64 ┆   ┆ f64       ┆ f64             ┆ f64            ┆ f64      │\n",
      "╞═════════╪═════╪═════╪═════╪═══╪═══════════╪═════════════════╪════════════════╪══════════╡\n",
      "│ 8977    ┆ 0.0 ┆ 0.0 ┆ 0.0 ┆ … ┆ -0.708599 ┆ 0.004187        ┆ 0.000162       ┆ 0.003713 │\n",
      "│ 8978    ┆ 0.0 ┆ 0.0 ┆ 0.0 ┆ … ┆ -0.725858 ┆ 0.002279        ┆ 0.000162       ┆ 0.001805 │\n",
      "│ 8979    ┆ 0.0 ┆ 0.0 ┆ 0.0 ┆ … ┆ -0.720092 ┆ 0.003541        ┆ 0.000161       ┆ 0.003068 │\n",
      "└─────────┴─────┴─────┴─────┴───┴───────────┴─────────────────┴────────────────┴──────────┘\n",
      "shape: (3, 99)\n",
      "┌─────────┬─────┬─────┬─────┬───┬───────────┬───────────┬─────────────────────┬────────────────────┐\n",
      "│ date_id ┆ D1  ┆ D2  ┆ D3  ┆ … ┆ is_scored ┆ target    ┆ lagged_risk_free_ra ┆ lagged_market_forw │\n",
      "│ ---     ┆ --- ┆ --- ┆ --- ┆   ┆ ---       ┆ ---       ┆ te                  ┆ ard_excess_r…      │\n",
      "│ i64     ┆ f64 ┆ f64 ┆ f64 ┆   ┆ f64       ┆ f64       ┆ ---                 ┆ ---                │\n",
      "│         ┆     ┆     ┆     ┆   ┆           ┆           ┆ f64                 ┆ f64                │\n",
      "╞═════════╪═════╪═════╪═════╪═══╪═══════════╪═══════════╪═════════════════════╪════════════════════╡\n",
      "│ 8980    ┆ 0.0 ┆ 0.0 ┆ 0.0 ┆ … ┆ 1.0       ┆ 0.003541  ┆ 0.000161            ┆ 0.003068           │\n",
      "│ 8981    ┆ 0.0 ┆ 0.0 ┆ 0.0 ┆ … ┆ 1.0       ┆ -0.005964 ┆ 0.000162            ┆ -0.006437          │\n",
      "│ 8982    ┆ 0.0 ┆ 0.0 ┆ 0.0 ┆ … ┆ 1.0       ┆ -0.00741  ┆ 0.00016             ┆ -0.007882          │\n",
      "└─────────┴─────┴─────┴─────┴───┴───────────┴───────────┴─────────────────────┴────────────────────┘\n"
     ]
    }
   ],
   "source": [
    "train: pl.DataFrame = load_trainset()\n",
    "test: pl.DataFrame = load_testset() \n",
    "print(train.tail(3)) \n",
    "print(test.head(3))"
   ]
  },
  {
   "cell_type": "markdown",
   "id": "3daae70d",
   "metadata": {
    "papermill": {
     "duration": 0.004234,
     "end_time": "2025-10-09T16:53:10.767872",
     "exception": false,
     "start_time": "2025-10-09T16:53:10.763638",
     "status": "completed"
    },
    "tags": []
   },
   "source": [
    "## Generating the Train and Test"
   ]
  },
  {
   "cell_type": "code",
   "execution_count": null,
   "id": "340c312a",
   "metadata": {
    "execution": {
     "iopub.execute_input": "2025-10-09T16:53:10.777623Z",
     "iopub.status.busy": "2025-10-09T16:53:10.777295Z",
     "iopub.status.idle": "2025-10-09T16:53:10.892717Z",
     "shell.execute_reply": "2025-10-09T16:53:10.891750Z"
    },
    "papermill": {
     "duration": 0.122366,
     "end_time": "2025-10-09T16:53:10.894445",
     "exception": false,
     "start_time": "2025-10-09T16:53:10.772079",
     "status": "completed"
    },
    "tags": []
   },
   "outputs": [],
   "source": [
    "df: pl.DataFrame = join_train_test_dataframes(train, test)\n",
    "df = create_example_dataset(df=df) \n",
    "train: pl.DataFrame = df.filter(pl.col('date_id').is_in(train.get_column('date_id')))\n",
    "test: pl.DataFrame = df.filter(pl.col('date_id').is_in(test.get_column('date_id')))\n",
    "\n",
    "FEATURES: list[str] = [col for col in test.columns if col not in ['date_id', 'target']]\n",
    "\n",
    "dataset: DatasetOutput = split_dataset(train=train, test=test, features=FEATURES) \n",
    "\n",
    "X_train: pl.DataFrame = dataset.X_train\n",
    "X_test: pl.DataFrame = dataset.X_test\n",
    "y_train: pl.DataFrame = dataset.y_train\n",
    "y_test: pl.DataFrame = dataset.y_test\n",
    "scaler: StandardScaler = dataset.scaler "
   ]
  },
  {
   "cell_type": "markdown",
   "id": "8a255993",
   "metadata": {
    "papermill": {
     "duration": 0.004233,
     "end_time": "2025-10-09T16:53:10.903193",
     "exception": false,
     "start_time": "2025-10-09T16:53:10.898960",
     "status": "completed"
    },
    "tags": []
   },
   "source": [
    "## Fitting the Model "
   ]
  },
  {
   "cell_type": "code",
   "execution_count": null,
   "id": "fd563f1b",
   "metadata": {
    "execution": {
     "iopub.execute_input": "2025-10-09T16:53:10.913890Z",
     "iopub.status.busy": "2025-10-09T16:53:10.913523Z",
     "iopub.status.idle": "2025-10-09T16:53:11.096462Z",
     "shell.execute_reply": "2025-10-09T16:53:11.095511Z"
    },
    "papermill": {
     "duration": 0.190564,
     "end_time": "2025-10-09T16:53:11.098035",
     "exception": false,
     "start_time": "2025-10-09T16:53:10.907471",
     "status": "completed"
    },
    "tags": []
   },
   "outputs": [
    {
     "data": {
      "text/html": [
       "<style>#sk-container-id-1 {color: black;background-color: white;}#sk-container-id-1 pre{padding: 0;}#sk-container-id-1 div.sk-toggleable {background-color: white;}#sk-container-id-1 label.sk-toggleable__label {cursor: pointer;display: block;width: 100%;margin-bottom: 0;padding: 0.3em;box-sizing: border-box;text-align: center;}#sk-container-id-1 label.sk-toggleable__label-arrow:before {content: \"▸\";float: left;margin-right: 0.25em;color: #696969;}#sk-container-id-1 label.sk-toggleable__label-arrow:hover:before {color: black;}#sk-container-id-1 div.sk-estimator:hover label.sk-toggleable__label-arrow:before {color: black;}#sk-container-id-1 div.sk-toggleable__content {max-height: 0;max-width: 0;overflow: hidden;text-align: left;background-color: #f0f8ff;}#sk-container-id-1 div.sk-toggleable__content pre {margin: 0.2em;color: black;border-radius: 0.25em;background-color: #f0f8ff;}#sk-container-id-1 input.sk-toggleable__control:checked~div.sk-toggleable__content {max-height: 200px;max-width: 100%;overflow: auto;}#sk-container-id-1 input.sk-toggleable__control:checked~label.sk-toggleable__label-arrow:before {content: \"▾\";}#sk-container-id-1 div.sk-estimator input.sk-toggleable__control:checked~label.sk-toggleable__label {background-color: #d4ebff;}#sk-container-id-1 div.sk-label input.sk-toggleable__control:checked~label.sk-toggleable__label {background-color: #d4ebff;}#sk-container-id-1 input.sk-hidden--visually {border: 0;clip: rect(1px 1px 1px 1px);clip: rect(1px, 1px, 1px, 1px);height: 1px;margin: -1px;overflow: hidden;padding: 0;position: absolute;width: 1px;}#sk-container-id-1 div.sk-estimator {font-family: monospace;background-color: #f0f8ff;border: 1px dotted black;border-radius: 0.25em;box-sizing: border-box;margin-bottom: 0.5em;}#sk-container-id-1 div.sk-estimator:hover {background-color: #d4ebff;}#sk-container-id-1 div.sk-parallel-item::after {content: \"\";width: 100%;border-bottom: 1px solid gray;flex-grow: 1;}#sk-container-id-1 div.sk-label:hover label.sk-toggleable__label {background-color: #d4ebff;}#sk-container-id-1 div.sk-serial::before {content: \"\";position: absolute;border-left: 1px solid gray;box-sizing: border-box;top: 0;bottom: 0;left: 50%;z-index: 0;}#sk-container-id-1 div.sk-serial {display: flex;flex-direction: column;align-items: center;background-color: white;padding-right: 0.2em;padding-left: 0.2em;position: relative;}#sk-container-id-1 div.sk-item {position: relative;z-index: 1;}#sk-container-id-1 div.sk-parallel {display: flex;align-items: stretch;justify-content: center;background-color: white;position: relative;}#sk-container-id-1 div.sk-item::before, #sk-container-id-1 div.sk-parallel-item::before {content: \"\";position: absolute;border-left: 1px solid gray;box-sizing: border-box;top: 0;bottom: 0;left: 50%;z-index: -1;}#sk-container-id-1 div.sk-parallel-item {display: flex;flex-direction: column;z-index: 1;position: relative;background-color: white;}#sk-container-id-1 div.sk-parallel-item:first-child::after {align-self: flex-end;width: 50%;}#sk-container-id-1 div.sk-parallel-item:last-child::after {align-self: flex-start;width: 50%;}#sk-container-id-1 div.sk-parallel-item:only-child::after {width: 0;}#sk-container-id-1 div.sk-dashed-wrapped {border: 1px dashed gray;margin: 0 0.4em 0.5em 0.4em;box-sizing: border-box;padding-bottom: 0.4em;background-color: white;}#sk-container-id-1 div.sk-label label {font-family: monospace;font-weight: bold;display: inline-block;line-height: 1.2em;}#sk-container-id-1 div.sk-label-container {text-align: center;}#sk-container-id-1 div.sk-container {/* jupyter's `normalize.less` sets `[hidden] { display: none; }` but bootstrap.min.css set `[hidden] { display: none !important; }` so we also need the `!important` here to be able to override the default hidden behavior on the sphinx rendered scikit-learn.org. See: https://github.com/scikit-learn/scikit-learn/issues/21755 */display: inline-block !important;position: relative;}#sk-container-id-1 div.sk-text-repr-fallback {display: none;}</style><div id=\"sk-container-id-1\" class=\"sk-top-container\"><div class=\"sk-text-repr-fallback\"><pre>ElasticNet(alpha=0.00026560877829466864)</pre><b>In a Jupyter environment, please rerun this cell to show the HTML representation or trust the notebook. <br />On GitHub, the HTML representation is unable to render, please try loading this page with nbviewer.org.</b></div><div class=\"sk-container\" hidden><div class=\"sk-item\"><div class=\"sk-estimator sk-toggleable\"><input class=\"sk-toggleable__control sk-hidden--visually\" id=\"sk-estimator-id-1\" type=\"checkbox\" checked><label for=\"sk-estimator-id-1\" class=\"sk-toggleable__label sk-toggleable__label-arrow\">ElasticNet</label><div class=\"sk-toggleable__content\"><pre>ElasticNet(alpha=0.00026560877829466864)</pre></div></div></div></div></div>"
      ],
      "text/plain": [
       "ElasticNet(alpha=0.00026560877829466864)"
      ]
     },
     "execution_count": 10,
     "metadata": {},
     "output_type": "execute_result"
    }
   ],
   "source": [
    "model_cv: ElasticNetCV = ElasticNetCV(\n",
    "    **asdict(enet_params)\n",
    ")\n",
    "model_cv.fit(X_train, y_train) \n",
    "        \n",
    "# Fit the final model using the best alpha found by cross-validation\n",
    "model: ElasticNet = ElasticNet(alpha=model_cv.alpha_, l1_ratio=enet_params.l1_ratio) \n",
    "model.fit(X_train, y_train)"
   ]
  },
  {
   "cell_type": "markdown",
   "id": "3e225c34",
   "metadata": {
    "papermill": {
     "duration": 0.00432,
     "end_time": "2025-10-09T16:53:11.107116",
     "exception": false,
     "start_time": "2025-10-09T16:53:11.102796",
     "status": "completed"
    },
    "tags": []
   },
   "source": [
    "## Prediction Function via Kaggle Server"
   ]
  },
  {
   "cell_type": "code",
   "execution_count": null,
   "id": "062ccfbe",
   "metadata": {
    "execution": {
     "iopub.execute_input": "2025-10-09T16:53:11.117604Z",
     "iopub.status.busy": "2025-10-09T16:53:11.117284Z",
     "iopub.status.idle": "2025-10-09T16:53:11.124625Z",
     "shell.execute_reply": "2025-10-09T16:53:11.123465Z"
    },
    "papermill": {
     "duration": 0.014553,
     "end_time": "2025-10-09T16:53:11.126122",
     "exception": false,
     "start_time": "2025-10-09T16:53:11.111569",
     "status": "completed"
    },
    "tags": []
   },
   "outputs": [],
   "source": [
    "def predict(test: pl.DataFrame) -> float:\n",
    "    test = test.rename({'lagged_forward_returns':'target'})\n",
    "    df: pl.DataFrame = create_example_dataset(test)\n",
    "    X_test: pl.DataFrame = df.select(FEATURES)\n",
    "    X_test_scaled_np: np.ndarray = scaler.transform(X_test)\n",
    "    X_test: pl.DataFrame = pl.from_numpy(X_test_scaled_np, schema=FEATURES)\n",
    "    raw_pred: float = model.predict(X_test)[0]\n",
    "    return convert_ret_to_signal(raw_pred, ret_signal_params)"
   ]
  },
  {
   "cell_type": "markdown",
   "id": "d4944126",
   "metadata": {
    "papermill": {
     "duration": 0.004248,
     "end_time": "2025-10-09T16:53:11.134993",
     "exception": false,
     "start_time": "2025-10-09T16:53:11.130745",
     "status": "completed"
    },
    "tags": []
   },
   "source": [
    "## Launch Server"
   ]
  },
  {
   "cell_type": "code",
   "execution_count": null,
   "id": "0e690a07",
   "metadata": {
    "execution": {
     "iopub.execute_input": "2025-10-09T16:53:11.145805Z",
     "iopub.status.busy": "2025-10-09T16:53:11.145049Z",
     "iopub.status.idle": "2025-10-09T16:53:11.421810Z",
     "shell.execute_reply": "2025-10-09T16:53:11.420439Z"
    },
    "papermill": {
     "duration": 0.284159,
     "end_time": "2025-10-09T16:53:11.423649",
     "exception": false,
     "start_time": "2025-10-09T16:53:11.139490",
     "status": "completed"
    },
    "tags": []
   },
   "outputs": [],
   "source": [
    "inference_server = kaggle_evaluation.default_inference_server.DefaultInferenceServer(predict)\n",
    "\n",
    "if os.getenv('KAGGLE_IS_COMPETITION_RERUN'):\n",
    "    inference_server.serve()\n",
    "else:\n",
    "    inference_server.run_local_gateway(('/kaggle/input/hull-tactical-market-prediction/',))"
   ]
  },
  {
   "cell_type": "code",
   "execution_count": null,
   "id": "0315b56e",
   "metadata": {
    "papermill": {
     "duration": 0.004387,
     "end_time": "2025-10-09T16:53:11.432880",
     "exception": false,
     "start_time": "2025-10-09T16:53:11.428493",
     "status": "completed"
    },
    "tags": []
   },
   "outputs": [],
   "source": []
  }
 ],
 "metadata": {
  "kaggle": {
   "accelerator": "none",
   "dataSources": [
    {
     "databundleVersionId": 13750964,
     "sourceId": 111543,
     "sourceType": "competition"
    }
   ],
   "dockerImageVersionId": 31089,
   "isGpuEnabled": false,
   "isInternetEnabled": false,
   "language": "python",
   "sourceType": "notebook"
  },
  "kernelspec": {
   "display_name": "Python 3",
   "language": "python",
   "name": "python3"
  },
  "language_info": {
   "codemirror_mode": {
    "name": "ipython",
    "version": 3
   },
   "file_extension": ".py",
   "mimetype": "text/x-python",
   "name": "python",
   "nbconvert_exporter": "python",
   "pygments_lexer": "ipython3",
   "version": "3.11.13"
  },
  "papermill": {
   "default_parameters": {},
   "duration": 12.965867,
   "end_time": "2025-10-09T16:53:12.258469",
   "environment_variables": {},
   "exception": null,
   "input_path": "__notebook__.ipynb",
   "output_path": "__notebook__.ipynb",
   "parameters": {},
   "start_time": "2025-10-09T16:52:59.292602",
   "version": "2.6.0"
  }
 },
 "nbformat": 4,
 "nbformat_minor": 5
}
